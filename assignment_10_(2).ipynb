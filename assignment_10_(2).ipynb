{
  "nbformat": 4,
  "nbformat_minor": 0,
  "metadata": {
    "colab": {
      "provenance": [],
      "include_colab_link": true
    },
    "kernelspec": {
      "name": "python3",
      "display_name": "Python 3"
    },
    "language_info": {
      "name": "python"
    }
  },
  "cells": [
    {
      "cell_type": "markdown",
      "metadata": {
        "id": "view-in-github",
        "colab_type": "text"
      },
      "source": [
        "<a href=\"https://colab.research.google.com/github/division-zero/Data-602assignments/blob/main/assignment_10_(2).ipynb\" target=\"_parent\"><img src=\"https://colab.research.google.com/assets/colab-badge.svg\" alt=\"Open In Colab\"/></a>"
      ]
    },
    {
      "cell_type": "markdown",
      "source": [
        "# **Assignment 9**"
      ],
      "metadata": {
        "id": "xqXbEBZtB8-u"
      }
    },
    {
      "cell_type": "code",
      "source": [
        "# core\n",
        "import matplotlib.pyplot as plt\n",
        "import numpy as np\n",
        "import pandas as pd\n",
        "\n",
        "# ml\n",
        "from sklearn import datasets as ds\n",
        "from sklearn import linear_model as lm\n",
        "from sklearn.neighbors import KNeighborsClassifier as KNN\n",
        "from sklearn.model_selection import train_test_split as tts\n",
        "\n",
        "#plotly or other graphing library\n",
        "import matplotlib.pyplot as plt\n"
      ],
      "metadata": {
        "id": "Iqswq2_ak3e-"
      },
      "execution_count": 41,
      "outputs": []
    },
    {
      "cell_type": "code",
      "source": [
        "# Load datasets here once and assign to variables iris and boston\n",
        "#no boston\n",
        "\n",
        "from sklearn.datasets import load_iris\n",
        "\n",
        "# Load the Iris dataset\n",
        "irisdata = load_iris()\n",
        "\n",
        "iris = pd.DataFrame(irisdata.data, columns=irisdata.feature_names) #feature_names contains the column info\n",
        "iris['target'] = irisdata.target #species assigned to\n",
        "print(iris.head()) #data frame\n",
        "iris['target'].unique() #species was assigned a number"
      ],
      "metadata": {
        "id": "92pRcki-k3kH",
        "colab": {
          "base_uri": "https://localhost:8080/"
        },
        "outputId": "edbf81e7-8d6f-4983-9b8c-264eeb1acbe7"
      },
      "execution_count": 42,
      "outputs": [
        {
          "output_type": "stream",
          "name": "stdout",
          "text": [
            "   sepal length (cm)  sepal width (cm)  petal length (cm)  petal width (cm)  \\\n",
            "0                5.1               3.5                1.4               0.2   \n",
            "1                4.9               3.0                1.4               0.2   \n",
            "2                4.7               3.2                1.3               0.2   \n",
            "3                4.6               3.1                1.5               0.2   \n",
            "4                5.0               3.6                1.4               0.2   \n",
            "\n",
            "   target  \n",
            "0       0  \n",
            "1       0  \n",
            "2       0  \n",
            "3       0  \n",
            "4       0  \n"
          ]
        },
        {
          "output_type": "execute_result",
          "data": {
            "text/plain": [
              "array([0, 1, 2])"
            ]
          },
          "metadata": {},
          "execution_count": 42
        }
      ]
    },
    {
      "cell_type": "code",
      "source": [],
      "metadata": {
        "id": "awiPwSo6XRGq"
      },
      "execution_count": 42,
      "outputs": []
    },
    {
      "cell_type": "markdown",
      "source": [
        "**Q1**\n",
        "\n",
        "**Data set: Iris**\n",
        "\n",
        "* Return the first 5 rows of the data including the feature names as column headings in a DataFrame and a\n",
        "separate Python list containing target names"
      ],
      "metadata": {
        "id": "lA9exQg2lFEn"
      }
    },
    {
      "cell_type": "code",
      "source": [
        "row_1to5 = iris.head(5) #assigning the first five rows to a variable\n",
        "\n",
        "target_names = irisdata.target_names.tolist() #target_names contains the names.  put in list\n",
        "\n",
        "print(row_1to5)\n",
        "print(target_names)"
      ],
      "metadata": {
        "id": "1kcEFauAlAxY",
        "colab": {
          "base_uri": "https://localhost:8080/"
        },
        "outputId": "bb7ec143-704d-432b-a547-0b77f6730c9b"
      },
      "execution_count": 43,
      "outputs": [
        {
          "output_type": "stream",
          "name": "stdout",
          "text": [
            "   sepal length (cm)  sepal width (cm)  petal length (cm)  petal width (cm)  \\\n",
            "0                5.1               3.5                1.4               0.2   \n",
            "1                4.9               3.0                1.4               0.2   \n",
            "2                4.7               3.2                1.3               0.2   \n",
            "3                4.6               3.1                1.5               0.2   \n",
            "4                5.0               3.6                1.4               0.2   \n",
            "\n",
            "   target  \n",
            "0       0  \n",
            "1       0  \n",
            "2       0  \n",
            "3       0  \n",
            "4       0  \n",
            "['setosa', 'versicolor', 'virginica']\n"
          ]
        }
      ]
    },
    {
      "cell_type": "markdown",
      "source": [
        "**Q2**\n",
        "\n",
        "**Data set: Iris**\n",
        "\n",
        "* Fit the Iris dataset into a kNN model with neighbors=5 and predict the category of observations passed in\n",
        "argument new_observations. Return back the target names of each prediction (and not their encoded values,\n",
        " i.e. return setosa instead of 0)."
      ],
      "metadata": {
        "id": "o2GEIhqzlT-i"
      }
    },
    {
      "cell_type": "code",
      "source": [
        "target_map = {index: species for index, species in enumerate(irisdata.target_names)} #collect the species, assign the numbers to the species\n",
        "\n",
        "\n",
        "iris['species'] = iris['target'].map(target_map) #create a new column called species that uses the target column to determine the species"
      ],
      "metadata": {
        "id": "EqBRHkvNeXmC"
      },
      "execution_count": 44,
      "outputs": []
    },
    {
      "cell_type": "code",
      "source": [
        "from sklearn.neighbors import KNeighborsClassifier #for building a knn model\n",
        "x = irisdata.data # predictors\n",
        "y = irisdata.target #target output for training\n",
        "\n",
        "\n",
        "knn = KNeighborsClassifier(n_neighbors=5) # 5 nearest neighbors\n",
        "knn.fit(x, y) #store fit into knn\n",
        "\n"
      ],
      "metadata": {
        "id": "wyqbRKh5lAzg",
        "colab": {
          "base_uri": "https://localhost:8080/",
          "height": 80
        },
        "outputId": "b2d771e8-ee65-4d5a-abe4-ae6a5b3ee5bd"
      },
      "execution_count": 45,
      "outputs": [
        {
          "output_type": "execute_result",
          "data": {
            "text/plain": [
              "KNeighborsClassifier()"
            ],
            "text/html": [
              "<style>#sk-container-id-5 {\n",
              "  /* Definition of color scheme common for light and dark mode */\n",
              "  --sklearn-color-text: #000;\n",
              "  --sklearn-color-text-muted: #666;\n",
              "  --sklearn-color-line: gray;\n",
              "  /* Definition of color scheme for unfitted estimators */\n",
              "  --sklearn-color-unfitted-level-0: #fff5e6;\n",
              "  --sklearn-color-unfitted-level-1: #f6e4d2;\n",
              "  --sklearn-color-unfitted-level-2: #ffe0b3;\n",
              "  --sklearn-color-unfitted-level-3: chocolate;\n",
              "  /* Definition of color scheme for fitted estimators */\n",
              "  --sklearn-color-fitted-level-0: #f0f8ff;\n",
              "  --sklearn-color-fitted-level-1: #d4ebff;\n",
              "  --sklearn-color-fitted-level-2: #b3dbfd;\n",
              "  --sklearn-color-fitted-level-3: cornflowerblue;\n",
              "\n",
              "  /* Specific color for light theme */\n",
              "  --sklearn-color-text-on-default-background: var(--sg-text-color, var(--theme-code-foreground, var(--jp-content-font-color1, black)));\n",
              "  --sklearn-color-background: var(--sg-background-color, var(--theme-background, var(--jp-layout-color0, white)));\n",
              "  --sklearn-color-border-box: var(--sg-text-color, var(--theme-code-foreground, var(--jp-content-font-color1, black)));\n",
              "  --sklearn-color-icon: #696969;\n",
              "\n",
              "  @media (prefers-color-scheme: dark) {\n",
              "    /* Redefinition of color scheme for dark theme */\n",
              "    --sklearn-color-text-on-default-background: var(--sg-text-color, var(--theme-code-foreground, var(--jp-content-font-color1, white)));\n",
              "    --sklearn-color-background: var(--sg-background-color, var(--theme-background, var(--jp-layout-color0, #111)));\n",
              "    --sklearn-color-border-box: var(--sg-text-color, var(--theme-code-foreground, var(--jp-content-font-color1, white)));\n",
              "    --sklearn-color-icon: #878787;\n",
              "  }\n",
              "}\n",
              "\n",
              "#sk-container-id-5 {\n",
              "  color: var(--sklearn-color-text);\n",
              "}\n",
              "\n",
              "#sk-container-id-5 pre {\n",
              "  padding: 0;\n",
              "}\n",
              "\n",
              "#sk-container-id-5 input.sk-hidden--visually {\n",
              "  border: 0;\n",
              "  clip: rect(1px 1px 1px 1px);\n",
              "  clip: rect(1px, 1px, 1px, 1px);\n",
              "  height: 1px;\n",
              "  margin: -1px;\n",
              "  overflow: hidden;\n",
              "  padding: 0;\n",
              "  position: absolute;\n",
              "  width: 1px;\n",
              "}\n",
              "\n",
              "#sk-container-id-5 div.sk-dashed-wrapped {\n",
              "  border: 1px dashed var(--sklearn-color-line);\n",
              "  margin: 0 0.4em 0.5em 0.4em;\n",
              "  box-sizing: border-box;\n",
              "  padding-bottom: 0.4em;\n",
              "  background-color: var(--sklearn-color-background);\n",
              "}\n",
              "\n",
              "#sk-container-id-5 div.sk-container {\n",
              "  /* jupyter's `normalize.less` sets `[hidden] { display: none; }`\n",
              "     but bootstrap.min.css set `[hidden] { display: none !important; }`\n",
              "     so we also need the `!important` here to be able to override the\n",
              "     default hidden behavior on the sphinx rendered scikit-learn.org.\n",
              "     See: https://github.com/scikit-learn/scikit-learn/issues/21755 */\n",
              "  display: inline-block !important;\n",
              "  position: relative;\n",
              "}\n",
              "\n",
              "#sk-container-id-5 div.sk-text-repr-fallback {\n",
              "  display: none;\n",
              "}\n",
              "\n",
              "div.sk-parallel-item,\n",
              "div.sk-serial,\n",
              "div.sk-item {\n",
              "  /* draw centered vertical line to link estimators */\n",
              "  background-image: linear-gradient(var(--sklearn-color-text-on-default-background), var(--sklearn-color-text-on-default-background));\n",
              "  background-size: 2px 100%;\n",
              "  background-repeat: no-repeat;\n",
              "  background-position: center center;\n",
              "}\n",
              "\n",
              "/* Parallel-specific style estimator block */\n",
              "\n",
              "#sk-container-id-5 div.sk-parallel-item::after {\n",
              "  content: \"\";\n",
              "  width: 100%;\n",
              "  border-bottom: 2px solid var(--sklearn-color-text-on-default-background);\n",
              "  flex-grow: 1;\n",
              "}\n",
              "\n",
              "#sk-container-id-5 div.sk-parallel {\n",
              "  display: flex;\n",
              "  align-items: stretch;\n",
              "  justify-content: center;\n",
              "  background-color: var(--sklearn-color-background);\n",
              "  position: relative;\n",
              "}\n",
              "\n",
              "#sk-container-id-5 div.sk-parallel-item {\n",
              "  display: flex;\n",
              "  flex-direction: column;\n",
              "}\n",
              "\n",
              "#sk-container-id-5 div.sk-parallel-item:first-child::after {\n",
              "  align-self: flex-end;\n",
              "  width: 50%;\n",
              "}\n",
              "\n",
              "#sk-container-id-5 div.sk-parallel-item:last-child::after {\n",
              "  align-self: flex-start;\n",
              "  width: 50%;\n",
              "}\n",
              "\n",
              "#sk-container-id-5 div.sk-parallel-item:only-child::after {\n",
              "  width: 0;\n",
              "}\n",
              "\n",
              "/* Serial-specific style estimator block */\n",
              "\n",
              "#sk-container-id-5 div.sk-serial {\n",
              "  display: flex;\n",
              "  flex-direction: column;\n",
              "  align-items: center;\n",
              "  background-color: var(--sklearn-color-background);\n",
              "  padding-right: 1em;\n",
              "  padding-left: 1em;\n",
              "}\n",
              "\n",
              "\n",
              "/* Toggleable style: style used for estimator/Pipeline/ColumnTransformer box that is\n",
              "clickable and can be expanded/collapsed.\n",
              "- Pipeline and ColumnTransformer use this feature and define the default style\n",
              "- Estimators will overwrite some part of the style using the `sk-estimator` class\n",
              "*/\n",
              "\n",
              "/* Pipeline and ColumnTransformer style (default) */\n",
              "\n",
              "#sk-container-id-5 div.sk-toggleable {\n",
              "  /* Default theme specific background. It is overwritten whether we have a\n",
              "  specific estimator or a Pipeline/ColumnTransformer */\n",
              "  background-color: var(--sklearn-color-background);\n",
              "}\n",
              "\n",
              "/* Toggleable label */\n",
              "#sk-container-id-5 label.sk-toggleable__label {\n",
              "  cursor: pointer;\n",
              "  display: flex;\n",
              "  width: 100%;\n",
              "  margin-bottom: 0;\n",
              "  padding: 0.5em;\n",
              "  box-sizing: border-box;\n",
              "  text-align: center;\n",
              "  align-items: start;\n",
              "  justify-content: space-between;\n",
              "  gap: 0.5em;\n",
              "}\n",
              "\n",
              "#sk-container-id-5 label.sk-toggleable__label .caption {\n",
              "  font-size: 0.6rem;\n",
              "  font-weight: lighter;\n",
              "  color: var(--sklearn-color-text-muted);\n",
              "}\n",
              "\n",
              "#sk-container-id-5 label.sk-toggleable__label-arrow:before {\n",
              "  /* Arrow on the left of the label */\n",
              "  content: \"▸\";\n",
              "  float: left;\n",
              "  margin-right: 0.25em;\n",
              "  color: var(--sklearn-color-icon);\n",
              "}\n",
              "\n",
              "#sk-container-id-5 label.sk-toggleable__label-arrow:hover:before {\n",
              "  color: var(--sklearn-color-text);\n",
              "}\n",
              "\n",
              "/* Toggleable content - dropdown */\n",
              "\n",
              "#sk-container-id-5 div.sk-toggleable__content {\n",
              "  max-height: 0;\n",
              "  max-width: 0;\n",
              "  overflow: hidden;\n",
              "  text-align: left;\n",
              "  /* unfitted */\n",
              "  background-color: var(--sklearn-color-unfitted-level-0);\n",
              "}\n",
              "\n",
              "#sk-container-id-5 div.sk-toggleable__content.fitted {\n",
              "  /* fitted */\n",
              "  background-color: var(--sklearn-color-fitted-level-0);\n",
              "}\n",
              "\n",
              "#sk-container-id-5 div.sk-toggleable__content pre {\n",
              "  margin: 0.2em;\n",
              "  border-radius: 0.25em;\n",
              "  color: var(--sklearn-color-text);\n",
              "  /* unfitted */\n",
              "  background-color: var(--sklearn-color-unfitted-level-0);\n",
              "}\n",
              "\n",
              "#sk-container-id-5 div.sk-toggleable__content.fitted pre {\n",
              "  /* unfitted */\n",
              "  background-color: var(--sklearn-color-fitted-level-0);\n",
              "}\n",
              "\n",
              "#sk-container-id-5 input.sk-toggleable__control:checked~div.sk-toggleable__content {\n",
              "  /* Expand drop-down */\n",
              "  max-height: 200px;\n",
              "  max-width: 100%;\n",
              "  overflow: auto;\n",
              "}\n",
              "\n",
              "#sk-container-id-5 input.sk-toggleable__control:checked~label.sk-toggleable__label-arrow:before {\n",
              "  content: \"▾\";\n",
              "}\n",
              "\n",
              "/* Pipeline/ColumnTransformer-specific style */\n",
              "\n",
              "#sk-container-id-5 div.sk-label input.sk-toggleable__control:checked~label.sk-toggleable__label {\n",
              "  color: var(--sklearn-color-text);\n",
              "  background-color: var(--sklearn-color-unfitted-level-2);\n",
              "}\n",
              "\n",
              "#sk-container-id-5 div.sk-label.fitted input.sk-toggleable__control:checked~label.sk-toggleable__label {\n",
              "  background-color: var(--sklearn-color-fitted-level-2);\n",
              "}\n",
              "\n",
              "/* Estimator-specific style */\n",
              "\n",
              "/* Colorize estimator box */\n",
              "#sk-container-id-5 div.sk-estimator input.sk-toggleable__control:checked~label.sk-toggleable__label {\n",
              "  /* unfitted */\n",
              "  background-color: var(--sklearn-color-unfitted-level-2);\n",
              "}\n",
              "\n",
              "#sk-container-id-5 div.sk-estimator.fitted input.sk-toggleable__control:checked~label.sk-toggleable__label {\n",
              "  /* fitted */\n",
              "  background-color: var(--sklearn-color-fitted-level-2);\n",
              "}\n",
              "\n",
              "#sk-container-id-5 div.sk-label label.sk-toggleable__label,\n",
              "#sk-container-id-5 div.sk-label label {\n",
              "  /* The background is the default theme color */\n",
              "  color: var(--sklearn-color-text-on-default-background);\n",
              "}\n",
              "\n",
              "/* On hover, darken the color of the background */\n",
              "#sk-container-id-5 div.sk-label:hover label.sk-toggleable__label {\n",
              "  color: var(--sklearn-color-text);\n",
              "  background-color: var(--sklearn-color-unfitted-level-2);\n",
              "}\n",
              "\n",
              "/* Label box, darken color on hover, fitted */\n",
              "#sk-container-id-5 div.sk-label.fitted:hover label.sk-toggleable__label.fitted {\n",
              "  color: var(--sklearn-color-text);\n",
              "  background-color: var(--sklearn-color-fitted-level-2);\n",
              "}\n",
              "\n",
              "/* Estimator label */\n",
              "\n",
              "#sk-container-id-5 div.sk-label label {\n",
              "  font-family: monospace;\n",
              "  font-weight: bold;\n",
              "  display: inline-block;\n",
              "  line-height: 1.2em;\n",
              "}\n",
              "\n",
              "#sk-container-id-5 div.sk-label-container {\n",
              "  text-align: center;\n",
              "}\n",
              "\n",
              "/* Estimator-specific */\n",
              "#sk-container-id-5 div.sk-estimator {\n",
              "  font-family: monospace;\n",
              "  border: 1px dotted var(--sklearn-color-border-box);\n",
              "  border-radius: 0.25em;\n",
              "  box-sizing: border-box;\n",
              "  margin-bottom: 0.5em;\n",
              "  /* unfitted */\n",
              "  background-color: var(--sklearn-color-unfitted-level-0);\n",
              "}\n",
              "\n",
              "#sk-container-id-5 div.sk-estimator.fitted {\n",
              "  /* fitted */\n",
              "  background-color: var(--sklearn-color-fitted-level-0);\n",
              "}\n",
              "\n",
              "/* on hover */\n",
              "#sk-container-id-5 div.sk-estimator:hover {\n",
              "  /* unfitted */\n",
              "  background-color: var(--sklearn-color-unfitted-level-2);\n",
              "}\n",
              "\n",
              "#sk-container-id-5 div.sk-estimator.fitted:hover {\n",
              "  /* fitted */\n",
              "  background-color: var(--sklearn-color-fitted-level-2);\n",
              "}\n",
              "\n",
              "/* Specification for estimator info (e.g. \"i\" and \"?\") */\n",
              "\n",
              "/* Common style for \"i\" and \"?\" */\n",
              "\n",
              ".sk-estimator-doc-link,\n",
              "a:link.sk-estimator-doc-link,\n",
              "a:visited.sk-estimator-doc-link {\n",
              "  float: right;\n",
              "  font-size: smaller;\n",
              "  line-height: 1em;\n",
              "  font-family: monospace;\n",
              "  background-color: var(--sklearn-color-background);\n",
              "  border-radius: 1em;\n",
              "  height: 1em;\n",
              "  width: 1em;\n",
              "  text-decoration: none !important;\n",
              "  margin-left: 0.5em;\n",
              "  text-align: center;\n",
              "  /* unfitted */\n",
              "  border: var(--sklearn-color-unfitted-level-1) 1pt solid;\n",
              "  color: var(--sklearn-color-unfitted-level-1);\n",
              "}\n",
              "\n",
              ".sk-estimator-doc-link.fitted,\n",
              "a:link.sk-estimator-doc-link.fitted,\n",
              "a:visited.sk-estimator-doc-link.fitted {\n",
              "  /* fitted */\n",
              "  border: var(--sklearn-color-fitted-level-1) 1pt solid;\n",
              "  color: var(--sklearn-color-fitted-level-1);\n",
              "}\n",
              "\n",
              "/* On hover */\n",
              "div.sk-estimator:hover .sk-estimator-doc-link:hover,\n",
              ".sk-estimator-doc-link:hover,\n",
              "div.sk-label-container:hover .sk-estimator-doc-link:hover,\n",
              ".sk-estimator-doc-link:hover {\n",
              "  /* unfitted */\n",
              "  background-color: var(--sklearn-color-unfitted-level-3);\n",
              "  color: var(--sklearn-color-background);\n",
              "  text-decoration: none;\n",
              "}\n",
              "\n",
              "div.sk-estimator.fitted:hover .sk-estimator-doc-link.fitted:hover,\n",
              ".sk-estimator-doc-link.fitted:hover,\n",
              "div.sk-label-container:hover .sk-estimator-doc-link.fitted:hover,\n",
              ".sk-estimator-doc-link.fitted:hover {\n",
              "  /* fitted */\n",
              "  background-color: var(--sklearn-color-fitted-level-3);\n",
              "  color: var(--sklearn-color-background);\n",
              "  text-decoration: none;\n",
              "}\n",
              "\n",
              "/* Span, style for the box shown on hovering the info icon */\n",
              ".sk-estimator-doc-link span {\n",
              "  display: none;\n",
              "  z-index: 9999;\n",
              "  position: relative;\n",
              "  font-weight: normal;\n",
              "  right: .2ex;\n",
              "  padding: .5ex;\n",
              "  margin: .5ex;\n",
              "  width: min-content;\n",
              "  min-width: 20ex;\n",
              "  max-width: 50ex;\n",
              "  color: var(--sklearn-color-text);\n",
              "  box-shadow: 2pt 2pt 4pt #999;\n",
              "  /* unfitted */\n",
              "  background: var(--sklearn-color-unfitted-level-0);\n",
              "  border: .5pt solid var(--sklearn-color-unfitted-level-3);\n",
              "}\n",
              "\n",
              ".sk-estimator-doc-link.fitted span {\n",
              "  /* fitted */\n",
              "  background: var(--sklearn-color-fitted-level-0);\n",
              "  border: var(--sklearn-color-fitted-level-3);\n",
              "}\n",
              "\n",
              ".sk-estimator-doc-link:hover span {\n",
              "  display: block;\n",
              "}\n",
              "\n",
              "/* \"?\"-specific style due to the `<a>` HTML tag */\n",
              "\n",
              "#sk-container-id-5 a.estimator_doc_link {\n",
              "  float: right;\n",
              "  font-size: 1rem;\n",
              "  line-height: 1em;\n",
              "  font-family: monospace;\n",
              "  background-color: var(--sklearn-color-background);\n",
              "  border-radius: 1rem;\n",
              "  height: 1rem;\n",
              "  width: 1rem;\n",
              "  text-decoration: none;\n",
              "  /* unfitted */\n",
              "  color: var(--sklearn-color-unfitted-level-1);\n",
              "  border: var(--sklearn-color-unfitted-level-1) 1pt solid;\n",
              "}\n",
              "\n",
              "#sk-container-id-5 a.estimator_doc_link.fitted {\n",
              "  /* fitted */\n",
              "  border: var(--sklearn-color-fitted-level-1) 1pt solid;\n",
              "  color: var(--sklearn-color-fitted-level-1);\n",
              "}\n",
              "\n",
              "/* On hover */\n",
              "#sk-container-id-5 a.estimator_doc_link:hover {\n",
              "  /* unfitted */\n",
              "  background-color: var(--sklearn-color-unfitted-level-3);\n",
              "  color: var(--sklearn-color-background);\n",
              "  text-decoration: none;\n",
              "}\n",
              "\n",
              "#sk-container-id-5 a.estimator_doc_link.fitted:hover {\n",
              "  /* fitted */\n",
              "  background-color: var(--sklearn-color-fitted-level-3);\n",
              "}\n",
              "</style><div id=\"sk-container-id-5\" class=\"sk-top-container\"><div class=\"sk-text-repr-fallback\"><pre>KNeighborsClassifier()</pre><b>In a Jupyter environment, please rerun this cell to show the HTML representation or trust the notebook. <br />On GitHub, the HTML representation is unable to render, please try loading this page with nbviewer.org.</b></div><div class=\"sk-container\" hidden><div class=\"sk-item\"><div class=\"sk-estimator fitted sk-toggleable\"><input class=\"sk-toggleable__control sk-hidden--visually\" id=\"sk-estimator-id-5\" type=\"checkbox\" checked><label for=\"sk-estimator-id-5\" class=\"sk-toggleable__label fitted sk-toggleable__label-arrow\"><div><div>KNeighborsClassifier</div></div><div><a class=\"sk-estimator-doc-link fitted\" rel=\"noreferrer\" target=\"_blank\" href=\"https://scikit-learn.org/1.6/modules/generated/sklearn.neighbors.KNeighborsClassifier.html\">?<span>Documentation for KNeighborsClassifier</span></a><span class=\"sk-estimator-doc-link fitted\">i<span>Fitted</span></span></div></label><div class=\"sk-toggleable__content fitted\"><pre>KNeighborsClassifier()</pre></div> </div></div></div></div>"
            ]
          },
          "metadata": {},
          "execution_count": 45
        }
      ]
    },
    {
      "cell_type": "code",
      "source": [
        "versicolordata = iris[iris['species'] == 'versicolor'] #select the veriscolor values\n",
        "\n",
        "\n",
        "average_versicolor = versicolordata.iloc[:, :-1].mean() # average value of the columns for versicolor\n",
        "\n",
        "print(average_versicolor)\n",
        "#copying output\n",
        "test_observation = np.array([5.936, 2.77, 4.26, 1.326]).reshape(1, -1) #requested a reshape\n",
        "\n",
        "#test the model\n",
        "testpredict = knn.predict(test_observation) #just want to see if it works\n",
        "predicted = [irisdata.target_names[testpredict]] #look up the target value and pull its name\n",
        "print(predicted) #predicts veriscolor at least\n",
        "\n",
        "\n",
        "\n",
        "\n"
      ],
      "metadata": {
        "colab": {
          "base_uri": "https://localhost:8080/"
        },
        "id": "tXJY0L7vp-sF",
        "outputId": "665b8ab4-155c-4da0-c615-d1adde30275b"
      },
      "execution_count": 46,
      "outputs": [
        {
          "output_type": "stream",
          "name": "stdout",
          "text": [
            "sepal length (cm)    5.936\n",
            "sepal width (cm)     2.770\n",
            "petal length (cm)    4.260\n",
            "petal width (cm)     1.326\n",
            "target               1.000\n",
            "dtype: float64\n",
            "[array(['versicolor'], dtype='<U10')]\n"
          ]
        }
      ]
    },
    {
      "cell_type": "code",
      "source": [
        "#trying the top 5\n",
        "#should be setosa for all\n",
        "fiveobs = row_1to5.drop(columns=['target'])#remove the target previously trained without target\n",
        "predict_rows = knn.predict(fiveobs) #set the predictions target output\n",
        "predicts = [irisdata.target_names[predict_rows]] #convert target output to species name\n",
        "print(predicts) #predicts setosa for all"
      ],
      "metadata": {
        "id": "SiFw4mX1yB4V",
        "outputId": "6c3f1ab2-9a27-4b78-c2e6-b0bd43787d5c",
        "colab": {
          "base_uri": "https://localhost:8080/"
        }
      },
      "execution_count": 47,
      "outputs": [
        {
          "output_type": "stream",
          "name": "stdout",
          "text": [
            "[array(['setosa', 'setosa', 'setosa', 'setosa', 'setosa'], dtype='<U10')]\n"
          ]
        },
        {
          "output_type": "stream",
          "name": "stderr",
          "text": [
            "/usr/local/lib/python3.10/dist-packages/sklearn/utils/validation.py:2732: UserWarning: X has feature names, but KNeighborsClassifier was fitted without feature names\n",
            "  warnings.warn(\n"
          ]
        }
      ]
    },
    {
      "cell_type": "markdown",
      "source": [
        "**Q3**\n",
        "\n",
        "**Data set: Iris**\n",
        "\n",
        "* Split the Iris dataset into a train / test model with the split ratio between the two established by the function parameter split.\n",
        "\n",
        "* Fit KNN with the training data with number of neighbors equal to the function parameter neighbors\n",
        "\n",
        "* Generate and return back an accuracy score using the test data that was split out"
      ],
      "metadata": {
        "id": "aVMa16PflnBv"
      }
    },
    {
      "cell_type": "code",
      "source": [
        " from sklearn.model_selection import train_test_split #split train and test data\n",
        " from sklearn.metrics import accuracy_score #compute accuracy\n",
        "\n",
        "\n",
        "split = 0.8\n",
        "neighbors = 5  #assuming it it requesting a parameter called neighbors\n",
        "#based on the next question it wants us to build a function\n",
        "def kmodel( split, neighbors):\n",
        "  x_train, x_test, y_train, y_test = train_test_split(x, y, test_size=split, random_state=2)\n",
        "\n",
        "\n",
        "  knn = KNeighborsClassifier(n_neighbors=neighbors) #number of neighbors to the function parameter neighbors\n",
        "  knn.fit(x_train, y_train)\n",
        "\n",
        "# Predict from the test set\n",
        "  y_pred = knn.predict(x_test)\n",
        "\n",
        "# calculate the accuracy score\n",
        "  accuracy = accuracy_score(y_test, y_pred)\n",
        "  return accuracy\n",
        "\n",
        "#print(accuracy) #90% accuracy with 0.8 split ratio (20% train data) and 5 neighbors\n",
        "\n",
        "print(kmodel(0.5,3)) #50% split 3 neighbors\n",
        "#function appears to be working\n"
      ],
      "metadata": {
        "id": "5VIRae0xlA20",
        "colab": {
          "base_uri": "https://localhost:8080/"
        },
        "outputId": "1bdc2450-a34b-4e3e-df90-aab877119170"
      },
      "execution_count": 48,
      "outputs": [
        {
          "output_type": "stream",
          "name": "stdout",
          "text": [
            "0.9733333333333334\n"
          ]
        }
      ]
    },
    {
      "cell_type": "markdown",
      "source": [
        "**Q4**\n",
        "\n",
        "**Data set: Iris**\n",
        "\n",
        "* Generate an overfitting / underfitting curve of kNN each of the testing and training accuracy performance scores series for a range of neighbor (k) values from 1 to 30 and plot the curves (number of neighbors is x-axis, performance score is y-axis on the chart)."
      ],
      "metadata": {
        "id": "GupwxBDVl8n2"
      }
    },
    {
      "cell_type": "code",
      "source": [
        "k_values = list(range(1,31))\n",
        "print(k_values)#made k values to loop through\n",
        "\n",
        "#redefining the function to produce  training accuracy.  kmodel produces test accuracy\n",
        "\n",
        "def kmodeltrain( split, neighbors): #training accuracy function\n",
        "  x_train, x_test, y_train, y_test = train_test_split(x, y, test_size=split, random_state=2)  #same train test split\n",
        "\n",
        "\n",
        "  knn = KNeighborsClassifier(n_neighbors=neighbors) #number of neighbors to the function parameter neighbors\n",
        "  knn.fit(x_train, y_train) #train the data as normal\n",
        "\n",
        "# Predict the test set\n",
        "  y_pred2 = knn.predict(x_train) # make predictions based off the training set instead of the test data set. predict the training y values\n",
        "\n",
        "# Calculate the accuracy score\n",
        "  accuracy = accuracy_score(y_train, y_pred2) # how well did it predict the predict the training y values\n",
        "  return accuracy\n",
        "\n",
        "\n",
        "\n",
        "print(kmodeltrain(0.5,3)) #50% split 3 neighbors\n",
        "#function appears to be working\n",
        "\n",
        "\n",
        "\n",
        "#store the accuracy values\n",
        "test_accuracy = []\n",
        "train_accuracy = []\n",
        "\n",
        "# test split set to 80% meaning 20% will be used for training should underfit\n",
        "split = 0.8 #0.8 seems like it is the highest it will go for a k of 30\n",
        "\n",
        "\n",
        "for k in k_values:\n",
        "    test_a = kmodel(split, k) #test accuracy\n",
        "    train_a = kmodeltrain(split,k) # train set prediction accuracy\n",
        "    test_accuracy.append(test_a) #gather the accuracies for test data predictions\n",
        "    train_accuracy.append(train_a) #gather the accuracies for the training data predictions\n",
        "\n",
        "plt.plot(k_values, test_accuracy, label=\"underfit test accuracy\",linestyle = ':', linewidth = 5) # plot\n",
        "plt.plot(k_values, train_accuracy, label=\"underfit training accuracy\", linestyle =\":\", linewidth = 5)\n",
        "#plt.legend() #if you want the legend on the second plot\n",
        "#plt.show()  #if you want to separate the plots uncomment\n",
        "#for the overfit\n",
        "test_accuracy2 = []\n",
        "train_accuracy2 =[] #initialize training and test variables to graph\n",
        "split = 0.15 #0.15 is 15% test so 85% training data should overfit\n",
        "for k in k_values:\n",
        "    test_a = kmodel(split, k)  # test data accuracy\n",
        "    test_accuracy2.append(test_a) #add test accuracies for graphing\n",
        "    train_a = kmodeltrain(split,k) #training data accuracy\n",
        "    train_accuracy2.append(train_a)\n",
        "\n",
        "\n",
        "plt.plot(k_values, test_accuracy2, label=\"overfit test accuracy\", linewidth = 4) #overfit test accuracy line\n",
        "plt.plot(k_values, train_accuracy2, label = \"overfit train accuracy\", linewidth = 4) #overfit train accuracy line\n",
        "\n",
        "plt.xlabel(\"Number of Neighbors (k)\") #label the plot\n",
        "plt.ylabel(\"Accuracy\")\n",
        "plt.title(\"Overfitting & underfitting Curve for kNN\")\n",
        "plt.legend()\n",
        "plt.show()"
      ],
      "metadata": {
        "id": "M-6Ig8_QlA6J",
        "colab": {
          "base_uri": "https://localhost:8080/",
          "height": 507
        },
        "outputId": "96953842-6296-4c3d-91f1-b77cdc4e698d"
      },
      "execution_count": 49,
      "outputs": [
        {
          "output_type": "stream",
          "name": "stdout",
          "text": [
            "[1, 2, 3, 4, 5, 6, 7, 8, 9, 10, 11, 12, 13, 14, 15, 16, 17, 18, 19, 20, 21, 22, 23, 24, 25, 26, 27, 28, 29, 30]\n",
            "0.9466666666666667\n"
          ]
        },
        {
          "output_type": "display_data",
          "data": {
            "text/plain": [
              "<Figure size 640x480 with 1 Axes>"
            ],
            "image/png": "[encoded data removed]"
          },
          "metadata": {}
        }
      ]
    },
    {
      "cell_type": "markdown",
      "source": [
        "it was a little difficult to find a value of training test split that would show overfitting and underfitting for the most values of k.  for underfitting bias becomes high or accuracy becomes low for a majority of values of k for both training and test data.  for the overfit plot split was modified until  the training predictions were more accurate for more values of k than the test predictions.  so in the plot the red is above the green most of the time. but it appears that the \"overfit\" model is not too overfitted."
      ],
      "metadata": {
        "id": "_q_tANgnSISu"
      }
    },
    {
      "cell_type": "code",
      "source": [],
      "metadata": {
        "id": "-Qi-PJvxlA8O"
      },
      "execution_count": 49,
      "outputs": []
    },
    {
      "cell_type": "code",
      "source": [],
      "metadata": {
        "id": "CDFVf0vxmSMo"
      },
      "execution_count": 49,
      "outputs": []
    },
    {
      "cell_type": "code",
      "source": [],
      "metadata": {
        "id": "02DsBMnDmmXC"
      },
      "execution_count": 49,
      "outputs": []
    }
  ]
}